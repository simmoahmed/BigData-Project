{
 "cells": [
  {
   "cell_type": "code",
   "execution_count": 3,
   "metadata": {
    "id": "iFnhxE5ad6q1"
   },
   "outputs": [],
   "source": [
    "import sparknlp\n",
    "from pyspark.sql import SparkSession\n",
    "from pyspark.sql.functions import col, from_json\n",
    "from pyspark.sql.types import StringType, StructType, StructField\n",
    "from sparknlp.base import DocumentAssembler, Finisher, TokenAssembler\n",
    "from sparknlp.annotator import Tokenizer, Normalizer, StopWordsCleaner, SentenceDetector, Stemmer, Lemmatizer"
   ]
  },
  {
   "cell_type": "code",
   "execution_count": 4,
   "metadata": {},
   "outputs": [],
   "source": [
    "# Create Spark session\n",
    "spark = SparkSession.builder.appName(\"KafkaRead\")\\\n",
    "        .config(\"spark.jars.packages\", \"org.apache.spark:spark-sql-kafka-0-10_2.12:3.2.0,com.johnsnowlabs.nlp:spark-nlp_2.12:3.4.2\") \\\n",
    "        .getOrCreate()"
   ]
  },
  {
   "cell_type": "code",
   "execution_count": 9,
   "metadata": {},
   "outputs": [],
   "source": [
    "import os\n",
    "os.environ['PYSPARK_SUBMIT_ARGS'] = '--packages org.apache.spark:spark-streaming-kafka-0-10_2.12:3.2.0,org.apache.spark:spark-sql-kafka-0-10_2.12:3.2.0 pyspark-shell'"
   ]
  },
  {
   "cell_type": "code",
   "execution_count": 14,
   "metadata": {},
   "outputs": [
    {
     "ename": "AnalysisException",
     "evalue": "Failed to find data source: kafka. Please deploy the application as per the deployment section of Structured Streaming + Kafka Integration Guide.",
     "output_type": "error",
     "traceback": [
      "\u001b[1;31m---------------------------------------------------------------------------\u001b[0m",
      "\u001b[1;31mAnalysisException\u001b[0m                         Traceback (most recent call last)",
      "\u001b[1;32mc:\\Users\\Maadoudi\\Downloads\\Modified_SparkNLP.ipynb Cell 4\u001b[0m line \u001b[0;36m1\n\u001b[0;32m      <a href='vscode-notebook-cell:/c%3A/Users/Maadoudi/Downloads/Modified_SparkNLP.ipynb#X53sZmlsZQ%3D%3D?line=2'>3</a>\u001b[0m kafka_bootstrap_servers \u001b[39m=\u001b[39m \u001b[39m'\u001b[39m\u001b[39mlocalhost:9092\u001b[39m\u001b[39m'\u001b[39m  \u001b[39m# Change this to your Kafka server\u001b[39;00m\n\u001b[0;32m      <a href='vscode-notebook-cell:/c%3A/Users/Maadoudi/Downloads/Modified_SparkNLP.ipynb#X53sZmlsZQ%3D%3D?line=4'>5</a>\u001b[0m \u001b[39m# Read from Kafka\u001b[39;00m\n\u001b[0;32m      <a href='vscode-notebook-cell:/c%3A/Users/Maadoudi/Downloads/Modified_SparkNLP.ipynb#X53sZmlsZQ%3D%3D?line=5'>6</a>\u001b[0m df \u001b[39m=\u001b[39m spark\u001b[39m.\u001b[39;49mreadStream\\\n\u001b[0;32m      <a href='vscode-notebook-cell:/c%3A/Users/Maadoudi/Downloads/Modified_SparkNLP.ipynb#X53sZmlsZQ%3D%3D?line=6'>7</a>\u001b[0m     \u001b[39m.\u001b[39;49mformat(\u001b[39m\"\u001b[39;49m\u001b[39mkafka\u001b[39;49m\u001b[39m\"\u001b[39;49m)\\\n\u001b[0;32m      <a href='vscode-notebook-cell:/c%3A/Users/Maadoudi/Downloads/Modified_SparkNLP.ipynb#X53sZmlsZQ%3D%3D?line=7'>8</a>\u001b[0m     \u001b[39m.\u001b[39;49moption(\u001b[39m\"\u001b[39;49m\u001b[39mkafka.bootstrap.servers\u001b[39;49m\u001b[39m\"\u001b[39;49m, kafka_bootstrap_servers)\\\n\u001b[0;32m      <a href='vscode-notebook-cell:/c%3A/Users/Maadoudi/Downloads/Modified_SparkNLP.ipynb#X53sZmlsZQ%3D%3D?line=8'>9</a>\u001b[0m     \u001b[39m.\u001b[39;49moption(\u001b[39m\"\u001b[39;49m\u001b[39msubscribe\u001b[39;49m\u001b[39m\"\u001b[39;49m, kafka_topic_name)\\\n\u001b[1;32m---> <a href='vscode-notebook-cell:/c%3A/Users/Maadoudi/Downloads/Modified_SparkNLP.ipynb#X53sZmlsZQ%3D%3D?line=9'>10</a>\u001b[0m     \u001b[39m.\u001b[39;49mload()\n",
      "File \u001b[1;32mc:\\Users\\Maadoudi\\anaconda3\\envs\\spark_env\\lib\\site-packages\\pyspark\\sql\\streaming.py:454\u001b[0m, in \u001b[0;36mDataStreamReader.load\u001b[1;34m(self, path, format, schema, **options)\u001b[0m\n\u001b[0;32m    452\u001b[0m     \u001b[39mreturn\u001b[39;00m \u001b[39mself\u001b[39m\u001b[39m.\u001b[39m_df(\u001b[39mself\u001b[39m\u001b[39m.\u001b[39m_jreader\u001b[39m.\u001b[39mload(path))\n\u001b[0;32m    453\u001b[0m \u001b[39melse\u001b[39;00m:\n\u001b[1;32m--> 454\u001b[0m     \u001b[39mreturn\u001b[39;00m \u001b[39mself\u001b[39m\u001b[39m.\u001b[39m_df(\u001b[39mself\u001b[39;49m\u001b[39m.\u001b[39;49m_jreader\u001b[39m.\u001b[39;49mload())\n",
      "File \u001b[1;32mc:\\Users\\Maadoudi\\anaconda3\\envs\\spark_env\\lib\\site-packages\\py4j\\java_gateway.py:1321\u001b[0m, in \u001b[0;36mJavaMember.__call__\u001b[1;34m(self, *args)\u001b[0m\n\u001b[0;32m   1315\u001b[0m command \u001b[39m=\u001b[39m proto\u001b[39m.\u001b[39mCALL_COMMAND_NAME \u001b[39m+\u001b[39m\\\n\u001b[0;32m   1316\u001b[0m     \u001b[39mself\u001b[39m\u001b[39m.\u001b[39mcommand_header \u001b[39m+\u001b[39m\\\n\u001b[0;32m   1317\u001b[0m     args_command \u001b[39m+\u001b[39m\\\n\u001b[0;32m   1318\u001b[0m     proto\u001b[39m.\u001b[39mEND_COMMAND_PART\n\u001b[0;32m   1320\u001b[0m answer \u001b[39m=\u001b[39m \u001b[39mself\u001b[39m\u001b[39m.\u001b[39mgateway_client\u001b[39m.\u001b[39msend_command(command)\n\u001b[1;32m-> 1321\u001b[0m return_value \u001b[39m=\u001b[39m get_return_value(\n\u001b[0;32m   1322\u001b[0m     answer, \u001b[39mself\u001b[39;49m\u001b[39m.\u001b[39;49mgateway_client, \u001b[39mself\u001b[39;49m\u001b[39m.\u001b[39;49mtarget_id, \u001b[39mself\u001b[39;49m\u001b[39m.\u001b[39;49mname)\n\u001b[0;32m   1324\u001b[0m \u001b[39mfor\u001b[39;00m temp_arg \u001b[39min\u001b[39;00m temp_args:\n\u001b[0;32m   1325\u001b[0m     temp_arg\u001b[39m.\u001b[39m_detach()\n",
      "File \u001b[1;32mc:\\Users\\Maadoudi\\anaconda3\\envs\\spark_env\\lib\\site-packages\\pyspark\\sql\\utils.py:117\u001b[0m, in \u001b[0;36mcapture_sql_exception.<locals>.deco\u001b[1;34m(*a, **kw)\u001b[0m\n\u001b[0;32m    113\u001b[0m converted \u001b[39m=\u001b[39m convert_exception(e\u001b[39m.\u001b[39mjava_exception)\n\u001b[0;32m    114\u001b[0m \u001b[39mif\u001b[39;00m \u001b[39mnot\u001b[39;00m \u001b[39misinstance\u001b[39m(converted, UnknownException):\n\u001b[0;32m    115\u001b[0m     \u001b[39m# Hide where the exception came from that shows a non-Pythonic\u001b[39;00m\n\u001b[0;32m    116\u001b[0m     \u001b[39m# JVM exception message.\u001b[39;00m\n\u001b[1;32m--> 117\u001b[0m     \u001b[39mraise\u001b[39;00m converted \u001b[39mfrom\u001b[39;00m \u001b[39mNone\u001b[39;00m\n\u001b[0;32m    118\u001b[0m \u001b[39melse\u001b[39;00m:\n\u001b[0;32m    119\u001b[0m     \u001b[39mraise\u001b[39;00m\n",
      "\u001b[1;31mAnalysisException\u001b[0m: Failed to find data source: kafka. Please deploy the application as per the deployment section of Structured Streaming + Kafka Integration Guide."
     ]
    }
   ],
   "source": [
    "# Define Kafka parameters\n",
    "kafka_topic_name = \"reddit_topic_gaza\"\n",
    "kafka_bootstrap_servers = \"localhost:9092\"\n",
    "\n",
    "# Read from Kafka\n",
    "df = spark.readStream\\\n",
    "    .format(\"kafka\")\\\n",
    "    .option(\"kafka.bootstrap.servers\", kafka_bootstrap_servers)\\\n",
    "    .option(\"subscribe\", kafka_topic_name)\\\n",
    "    .load()"
   ]
  },
  {
   "cell_type": "code",
   "execution_count": null,
   "metadata": {},
   "outputs": [],
   "source": [
    "# Define schema of your JSON data\n",
    "json_schema = StructType([\n",
    "    StructField(\"someField\", StringType(), True),\n",
    "    # Add more fields here based on your JSON structure\n",
    "])"
   ]
  },
  {
   "cell_type": "code",
   "execution_count": null,
   "metadata": {},
   "outputs": [],
   "source": [
    "# Parse JSON data\n",
    "parsed_df = df.select(from_json(col(\"value\").cast(\"string\"), json_schema).alias(\"data\"))"
   ]
  },
  {
   "cell_type": "code",
   "execution_count": 23,
   "metadata": {
    "colab": {
     "base_uri": "https://localhost:8080/"
    },
    "id": "HwY68xEQfCx6",
    "outputId": "7224a127-052c-45aa-f5b6-433dd952d05b"
   },
   "outputs": [
    {
     "name": "stdout",
     "output_type": "stream",
     "text": [
      "root\n",
      " |-- tweet_avatar: string (nullable = true)\n",
      " |-- tweet_id: string (nullable = true)\n",
      " |-- url: string (nullable = true)\n",
      " |-- query: string (nullable = true)\n",
      " |-- text: string (nullable = true)\n",
      " |-- username: string (nullable = true)\n",
      " |-- fullname: string (nullable = true)\n",
      " |-- timestamp: string (nullable = true)\n",
      " |-- replies: string (nullable = true)\n",
      " |-- retweets: string (nullable = true)\n",
      " |-- quotes: string (nullable = true)\n",
      " |-- images: string (nullable = true)\n",
      " |-- likes: string (nullable = true)\n",
      " |-- tweet_links: string (nullable = true)\n",
      " |-- tweet_mentions: string (nullable = true)\n",
      " |-- tweet_hashtags: string (nullable = true)\n",
      " |-- in_reply_to: string (nullable = true)\n",
      "\n",
      "+------------------------------+-------------------+------------------------------+------------------------------+------------------------------+----------------+-----------------------+-------------------------+-------+--------+------+------------------------------+-----+------------------------------+--------------------------+------------------------------+-----------+\n",
      "|                  tweet_avatar|           tweet_id|                           url|                         query|                          text|        username|               fullname|                timestamp|replies|retweets|quotes|                        images|likes|                   tweet_links|            tweet_mentions|                tweet_hashtags|in_reply_to|\n",
      "+------------------------------+-------------------+------------------------------+------------------------------+------------------------------+----------------+-----------------------+-------------------------+-------+--------+------+------------------------------+-----+------------------------------+--------------------------+------------------------------+-----------+\n",
      "|https://pbs.twimg.com/profi...|1726569659208741329|https://twitter.com/mcaruan...|palestine lang:en filter:ve...|The Director of @PressHouse...|@mcaruanagalizia|Matthew Caruana Galizia|2023-11-20 11:54:00+00:00|      1|      23|     1|https://pbs.twimg.com/media...|   31|https://en.palbas.org/post/...|PressHouseGaza; daphnefdtn|                            []|         []|\n",
      "|https://pbs.twimg.com/profi...|1726569211542270259|https://twitter.com/CSDR_In...|palestine lang:en filter:ve...|Smaller nations, focused on...|     @CSDR_India|                   CSDR|2023-11-20 11:52:00+00:00|      1|       0|     0|                            []|    0|                            []|                        []|#ForeignPolicy; #Internatio...|         []|\n",
      "|https://pbs.twimg.com/profi...|1726568128828895330|https://twitter.com/ragipso...|palestine lang:en filter:ve...|Ankara backed Egypt\\u2019s ...|     @ragipsoylu|       Rag\\u0131p Soylu|2023-11-20 11:48:00+00:00|      4|       5|     0|                            []|   21|https://www.middleeasteye.n...|                        []|                            []|         []|\n",
      "|https://pbs.twimg.com/profi...|1726566807656595742|https://twitter.com/dawn_co...|palestine lang:en filter:ve...|Pakistan\\u2019s policy on P...|       @dawn_com|               Dawn.com|2023-11-20 11:42:00+00:00|      1|       0|     0|                            []|    1|https://www.dawn.com/live/p...|                        []|                            []|         []|\n",
      "|https://pbs.twimg.com/profi...|1726562265548370127|https://twitter.com/IFJGlob...|palestine lang:en filter:ve...|#Palestine\\U0001f1f5\\U0001f...|      @IFJGlobal|                    IFJ|2023-11-20 11:24:00+00:00|      0|      15|     1|https://pbs.twimg.com/media...|   18|https://www.ifj.org/fr/sall...|                   InfoPJS|             #Palestine; #Gaza|         []|\n",
      "+------------------------------+-------------------+------------------------------+------------------------------+------------------------------+----------------+-----------------------+-------------------------+-------+--------+------+------------------------------+-----+------------------------------+--------------------------+------------------------------+-----------+\n",
      "only showing top 5 rows\n",
      "\n"
     ]
    }
   ],
   "source": [
    "df.printSchema()\n",
    "df.show(5, truncate=30)"
   ]
  },
  {
   "cell_type": "code",
   "execution_count": 24,
   "metadata": {
    "id": "5V7nl6sSfNyf"
   },
   "outputs": [],
   "source": [
    "# Document Assembler\n",
    "documentAssembler = DocumentAssembler() \\\n",
    "    .setInputCol(\"text\") \\\n",
    "    .setOutputCol(\"document\")\\\n",
    "    .setCleanupMode(\"shrink\")"
   ]
  },
  {
   "cell_type": "code",
   "execution_count": 17,
   "metadata": {
    "id": "eiPVp6Bvgm5q"
   },
   "outputs": [],
   "source": [
    "  # Tokenizer\n",
    "tokenizer = Tokenizer() \\\n",
    "    .setInputCols([\"document\"]) \\\n",
    "    .setOutputCol(\"token\")"
   ]
  },
  {
   "cell_type": "code",
   "execution_count": 32,
   "metadata": {
    "id": "yo_oS0x_jkj6"
   },
   "outputs": [],
   "source": [
    "sentenceDetector= SentenceDetector()\\\n",
    "    .setInputCols([\"document\"])\\\n",
    "    .setOutputCol(\"sentence\")"
   ]
  },
  {
   "cell_type": "code",
   "execution_count": 28,
   "metadata": {
    "id": "pvZvoamRgpx2"
   },
   "outputs": [],
   "source": [
    "# Normalizer\n",
    "normalizer = Normalizer() \\\n",
    "    .setInputCols([\"token\"]) \\\n",
    "    .setOutputCol(\"normalized\") \\\n",
    "    .setLowercase(True)\\\n",
    "    .setCleanupPatterns([\"[^\\w\\d\\s]\"]) #remove punctuations, keep alphanumeric chars."
   ]
  },
  {
   "cell_type": "code",
   "execution_count": 29,
   "metadata": {
    "id": "AhNT5qudjVbf"
   },
   "outputs": [],
   "source": [
    "#Stopwords\n",
    "\n",
    "stopwordsCleaner =StopWordsCleaner()\\\n",
    "    .setInputCols([\"token\"])\\\n",
    "    .setOutputCol(\"cleaned_tokens\")\\\n",
    "    .setCaseSensitive(True)"
   ]
  },
  {
   "cell_type": "code",
   "execution_count": 36,
   "metadata": {
    "id": "I73IIujvj29L"
   },
   "outputs": [],
   "source": [
    "#TokenAssembler\n",
    "tokenAssembler= TokenAssembler()\\\n",
    "    .setInputCols([\"sentence\", \"cleaned_tokens\"])\\\n",
    "    .setOutputCol(\"assembled\")"
   ]
  },
  {
   "cell_type": "code",
   "execution_count": 38,
   "metadata": {
    "id": "juxr6h8BkJur"
   },
   "outputs": [],
   "source": [
    "#Stemming\n",
    "stemmer= Stemmer()\\\n",
    "    .setInputCols([\"token\"])\\\n",
    "    .setOutputCol(\"stem\")"
   ]
  },
  {
   "cell_type": "code",
   "execution_count": 40,
   "metadata": {
    "id": "msgsfxHdkYog"
   },
   "outputs": [],
   "source": [
    "#lemmatization\n",
    "lemmatizer= Lemmatizer()\\\n",
    "    .setInputCols([\"token\"])\\\n",
    "    .setOutputCol(\"lemma\")\\\n",
    "    .setDictionary(\"/content/AntBNC_lemmas_ver_001.txt\",\n",
    "    value_delimiter=\"\\t\", key_delimiter=\"->\")"
   ]
  },
  {
   "cell_type": "code",
   "execution_count": 19,
   "metadata": {
    "id": "YOP5cVBQgsr4"
   },
   "outputs": [],
   "source": [
    "# Finisher: converts tokens to human-readable output\n",
    "finisher = Finisher() \\\n",
    "    .setInputCols([\"normalized\"]) \\\n",
    "    .setOutputCols([\"ntokens\"]) \\\n",
    "    .setOutputAsArray(True) \\\n",
    "    .setCleanAnnotations(False)"
   ]
  },
  {
   "cell_type": "code",
   "execution_count": 41,
   "metadata": {
    "id": "SIxYNQEKgwKM"
   },
   "outputs": [],
   "source": [
    "# Define the pipeline\n",
    "from sparknlp.base import Pipeline\n",
    "\n",
    "nlpPipeline = Pipeline(stages=[\n",
    "    documentAssembler,\n",
    "    tokenizer,\n",
    "    sentenceDetector,\n",
    "    normalizer,\n",
    "    stopwordsCleaner,\n",
    "    tokenAssembler,\n",
    "    stemmer,\n",
    "    lemmatizer\n",
    "])"
   ]
  },
  {
   "cell_type": "code",
   "execution_count": 58,
   "metadata": {
    "id": "iaPB0doHlXrF"
   },
   "outputs": [],
   "source": [
    "# Apply the pipeline to the DataFrame\n",
    "result = nlpPipeline.fit(parsed_df).transform(parsed_df)\n"
   ]
  },
  {
   "cell_type": "code",
   "execution_count": null,
   "metadata": {},
   "outputs": [],
   "source": [
    "# Define the Kafka topic to send data to\n",
    "output_kafka_topic_name = \"processed_topic\"  # Change this to your output topic\n",
    "\n",
    "# Write processed data back to Kafka\n",
    "query = result.selectExpr(\"to_json(struct(*)) AS value\") \\\n",
    "    .writeStream \\\n",
    "    .format(\"kafka\") \\\n",
    "    .outputMode(\"append\") \\\n",
    "    .option(\"kafka.bootstrap.servers\", kafka_bootstrap_servers) \\\n",
    "    .option(\"topic\", output_kafka_topic_name) \\\n",
    "    .start()\n",
    "\n",
    "query.awaitTermination()"
   ]
  }
 ],
 "metadata": {
  "colab": {
   "provenance": []
  },
  "kernelspec": {
   "display_name": "Python 3 (ipykernel)",
   "language": "python",
   "name": "python3"
  },
  "language_info": {
   "codemirror_mode": {
    "name": "ipython",
    "version": 3
   },
   "file_extension": ".py",
   "mimetype": "text/x-python",
   "name": "python",
   "nbconvert_exporter": "python",
   "pygments_lexer": "ipython3",
   "version": "3.10.13"
  }
 },
 "nbformat": 4,
 "nbformat_minor": 4
}
